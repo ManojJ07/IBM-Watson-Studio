{
 "cells": [
  {
   "cell_type": "markdown",
   "metadata": {},
   "source": [
    "<center>\n",
    "    <img src=\"https://s3-api.us-geo.objectstorage.softlayer.net/cf-courses-data/CognitiveClass/Logos/organization_logo/organization_logo.png\" width=\"300\" alt=\"cognitiveclass.ai logo\"  />\n",
    "</center>\n"
   ]
  },
  {
   "cell_type": "markdown",
   "metadata": {},
   "source": [
    "# My Jupyter Notebook on IBM Watson Studio"
   ]
  },
  {
   "cell_type": "markdown",
   "metadata": {},
   "source": [
    "**Manoj J**"
   ]
  },
  {
   "cell_type": "markdown",
   "metadata": {},
   "source": [
    "Data Scientist"
   ]
  },
  {
   "cell_type": "markdown",
   "metadata": {},
   "source": [
    "*Data Science is a highly skilled profession which combines technical ability with business acumen and has an abundance of opportunities for growth.*"
   ]
  },
  {
   "cell_type": "markdown",
   "metadata": {},
   "source": [
    "### Saving 'Python' in 'DS' as a string"
   ]
  },
  {
   "cell_type": "code",
   "execution_count": 9,
   "metadata": {},
   "outputs": [
    {
     "name": "stdout",
     "output_type": "stream",
     "text": [
      "Python\n"
     ]
    }
   ],
   "source": [
    "DS = 'Python'\n",
    "print(DS)"
   ]
  },
  {
   "cell_type": "markdown",
   "metadata": {},
   "source": [
    "-------------------------------------------------------------------------------------------------------------------------------------------------------------------------------------\n",
    "\n",
    "|Data Types:| Description|\n",
    "|-----------|------------|\n",
    "| Numerical:|Integer, Float, Complex, Binary|\n",
    "| Character:|String/Object|\n",
    "| Boollean: |True/False, 1/0|\n",
    "| Date:     |Numerical| \n",
    "\n",
    "\n",
    "Data Structures:\n",
    "- List\n",
    "- Dictionary\n",
    "- Tuple\n",
    "- Set\n",
    "- Array (NumPy)\n",
    "- Series (Pandas)\n",
    "- DataFrame (Pandas)\n",
    "\n",
    "Libraries:\n",
    "- NumPy (Numerical Calculations)\n",
    "- Pandas (For data arranged in table)\n",
    "- Matplotlib (Visualization)\n",
    "- Seaborn (Visualization)\n",
    "- Scikit Learn (Machine Learning)\n",
    "- NLTK & Spacy(Natural Language Processing)\n",
    "- Tensorflow/Keras (Deep Learning)\n",
    "- Scipy Stats (For statistics)\n",
    "\n",
    "\n",
    "| Item         | Price | # In stock |\n",
    "|--------------|:-----:|-----------:|\n",
    "| Apples       |  1.99 |        739 |\n",
    "| Bananas      |  1.89 |          6 |\n",
    "\n",
    "\n",
    "## Usage of brackets\n",
    "\n",
    "- Box Bracket [] : To create a list, or to access any value from a list, tuple, dataframe, array, series or a key from a dictionary, after loc & iloc function in a dataframe\n",
    "\n",
    "- Curve Bracket () : To create a tuple, and for all the functions & methods, except loc & iloc are followed by curve bracket.\n",
    "\n",
    "- Flower bracket {} : To create a dictionary or a set data structure\n",
    "\n",
    "-------------------------------------------------------------------------------------------------------------------------------------------------------------------------------------\n",
    "\n",
    "For Data Science course refer the below link:  \n",
    "https://www.coursera.org/professional-certificates/ibm-data-science"
   ]
  }
 ],
 "metadata": {
  "kernelspec": {
   "display_name": "Python",
   "language": "python",
   "name": "conda-env-python-py"
  },
  "language_info": {
   "codemirror_mode": {
    "name": "ipython",
    "version": 3
   },
   "file_extension": ".py",
   "mimetype": "text/x-python",
   "name": "python",
   "nbconvert_exporter": "python",
   "pygments_lexer": "ipython3",
   "version": "3.7.12"
  }
 },
 "nbformat": 4,
 "nbformat_minor": 4
}
